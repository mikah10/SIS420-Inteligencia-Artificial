{
  "nbformat": 4,
  "nbformat_minor": 0,
  "metadata": {
    "colab": {
      "provenance": []
    },
    "kernelspec": {
      "name": "python3",
      "display_name": "Python 3"
    },
    "language_info": {
      "name": "python"
    }
  },
  "cells": [
    {
      "cell_type": "markdown",
      "source": [
        "**Juego de Cuatro en Raya**\n",
        "Nombre: Samantha Mikaela Hinojosa Yucra   CU: 35-5346"
      ],
      "metadata": {
        "id": "hnXLSnx-LDWG"
      }
    },
    {
      "cell_type": "markdown",
      "source": [
        "**Reglas Basicas del Juego: **\n",
        "- Dos jugadores tiran fichas en una cuadrícula de 6 filas × 7 columnas.\n",
        "\n",
        "- Las fichas caen al fondo de la columna.\n",
        "\n",
        "- El primero en conectar cuatro fichas en línea (horizontal, vertical o diagonal) gana.\n",
        "\n",
        "Estrategia de aprendizaje:\n",
        "Usamos Q-learning, donde el agente guarda una tabla Q(s, a) que le dice qué tan buena es cada acción a en un estado s."
      ],
      "metadata": {
        "id": "ePWmnxMGLm8W"
      }
    },
    {
      "cell_type": "code",
      "source": [
        "import numpy as np\n",
        "import random\n",
        "\n",
        "# Configuración del tablero\n",
        "ROWS = 6\n",
        "COLUMNS = 7\n",
        "WIN_COUNT = 4\n",
        "\n",
        "\n",
        "# ENTORNO DE CUATRO EN RAYA\n",
        "\n",
        "class ConnectFour:\n",
        "    def __init__(self):\n",
        "        self.reset()\n",
        "\n",
        "    def reset(self):\n",
        "        self.board = np.zeros((ROWS, COLUMNS), dtype=int)\n",
        "        self.current_player = 1\n",
        "        return self.get_state()\n",
        "\n",
        "    def get_state(self):\n",
        "        return self.board.copy()\n",
        "\n",
        "    def available_actions(self):\n",
        "        return [c for c in range(COLUMNS) if self.board[0, c] == 0]\n",
        "\n",
        "    def step(self, action):\n",
        "        if action not in self.available_actions():\n",
        "            return self.get_state(), -10, True  # Penalización por acción inválida\n",
        "\n",
        "        # Coloca ficha en la columna\n",
        "        for r in reversed(range(ROWS)):\n",
        "            if self.board[r, action] == 0:\n",
        "                self.board[r, action] = self.current_player\n",
        "                break\n",
        "\n",
        "        done = self.check_winner(self.current_player)\n",
        "        reward = 1 if done else 0\n",
        "\n",
        "        if not done and not self.available_actions():\n",
        "            done = True  # empate\n",
        "            reward = 0.5\n",
        "\n",
        "        self.current_player = 3 - self.current_player  # alternar entre 1 y 2\n",
        "        return self.get_state(), reward, done\n",
        "\n",
        "    def check_winner(self, player):\n",
        "        # Chequea en todas las direcciones\n",
        "        for r in range(ROWS):\n",
        "            for c in range(COLUMNS - WIN_COUNT + 1):\n",
        "                if np.all(self.board[r, c:c + WIN_COUNT] == player):\n",
        "                    return True\n",
        "\n",
        "        for r in range(ROWS - WIN_COUNT + 1):\n",
        "            for c in range(COLUMNS):\n",
        "                if np.all(self.board[r:r + WIN_COUNT, c] == player):\n",
        "                    return True\n",
        "\n",
        "        for r in range(ROWS - WIN_COUNT + 1):\n",
        "            for c in range(COLUMNS - WIN_COUNT + 1):\n",
        "                if all(self.board[r + i, c + i] == player for i in range(WIN_COUNT)):\n",
        "                    return True\n",
        "\n",
        "        for r in range(WIN_COUNT - 1, ROWS):\n",
        "            for c in range(COLUMNS - WIN_COUNT + 1):\n",
        "                if all(self.board[r - i, c + i] == player for i in range(WIN_COUNT)):\n",
        "                    return True\n",
        "\n",
        "        return False"
      ],
      "metadata": {
        "id": "8ZrG00Y6Lo9r"
      },
      "execution_count": 1,
      "outputs": []
    },
    {
      "cell_type": "code",
      "source": [
        "# AGENTE Q-LEARNING\n",
        "class QAgent:\n",
        "    def __init__(self, alpha=0.1, gamma=0.95, epsilon=1.0, epsilon_decay=0.9995, epsilon_min=0.01):\n",
        "        self.q_table = {}\n",
        "        self.alpha = alpha\n",
        "        self.gamma = gamma\n",
        "        self.epsilon = epsilon\n",
        "        self.epsilon_decay = epsilon_decay\n",
        "        self.epsilon_min = epsilon_min\n",
        "\n",
        "    def get_qs(self, state):\n",
        "        key = self._hash_state(state)\n",
        "        if key not in self.q_table:\n",
        "            self.q_table[key] = np.zeros(COLUMNS)\n",
        "        return self.q_table[key]\n",
        "\n",
        "    def choose_action(self, state, available_actions):\n",
        "        if np.random.rand() < self.epsilon:\n",
        "            return random.choice(available_actions)\n",
        "        qs = self.get_qs(state)\n",
        "        return max(available_actions, key=lambda a: qs[a])\n",
        "\n",
        "    def learn(self, old_state, action, reward, new_state, done, available_actions):\n",
        "        old_q = self.get_qs(old_state)[action]\n",
        "        future_q = 0 if done else max(self.get_qs(new_state)[a] for a in available_actions)\n",
        "        new_q = old_q + self.alpha * (reward + self.gamma * future_q - old_q)\n",
        "        self.q_table[self._hash_state(old_state)][action] = new_q\n",
        "\n",
        "        if self.epsilon > self.epsilon_min:\n",
        "            self.epsilon *= self.epsilon_decay\n",
        "\n",
        "    def _hash_state(self, state):\n",
        "        return tuple(state.flatten())\n",
        "\n"
      ],
      "metadata": {
        "id": "2ZRs4cA4Lx6-"
      },
      "execution_count": 2,
      "outputs": []
    },
    {
      "cell_type": "code",
      "source": [
        "# ENTRENAMIENTO\n",
        "env = ConnectFour()\n",
        "agent = QAgent()\n",
        "\n",
        "episodes = 10000\n",
        "\n",
        "for episode in range(episodes):\n",
        "    state = env.reset()\n",
        "    done = False\n",
        "\n",
        "    while not done:\n",
        "        available = env.available_actions()\n",
        "        action = agent.choose_action(state, available)\n",
        "        next_state, reward, done = env.step(action)\n",
        "        next_available = env.available_actions()\n",
        "        agent.learn(state, action, reward, next_state, done, next_available)\n",
        "        state = next_state\n",
        "\n",
        "    if episode % 1000 == 0:\n",
        "        print(f\"📘 Episodio {episode} - Epsilon: {agent.epsilon:.4f}\")\n",
        "\n",
        "print(\"Entrenamiento completo!\")"
      ],
      "metadata": {
        "colab": {
          "base_uri": "https://localhost:8080/"
        },
        "id": "tTCWopTVL0po",
        "outputId": "78912291-b741-4514-fcfb-38fec2d1c65b"
      },
      "execution_count": 3,
      "outputs": [
        {
          "output_type": "stream",
          "name": "stdout",
          "text": [
            "📘 Episodio 0 - Epsilon: 0.9905\n",
            "📘 Episodio 1000 - Epsilon: 0.0100\n",
            "📘 Episodio 2000 - Epsilon: 0.0100\n",
            "📘 Episodio 3000 - Epsilon: 0.0100\n",
            "📘 Episodio 4000 - Epsilon: 0.0100\n",
            "📘 Episodio 5000 - Epsilon: 0.0100\n",
            "📘 Episodio 6000 - Epsilon: 0.0100\n",
            "📘 Episodio 7000 - Epsilon: 0.0100\n",
            "📘 Episodio 8000 - Epsilon: 0.0100\n",
            "📘 Episodio 9000 - Epsilon: 0.0100\n",
            "🎉 ¡Entrenamiento completo!\n"
          ]
        }
      ]
    },
    {
      "cell_type": "code",
      "source": [
        "# 5. JUGAR CONTRA EL AGENTE\n",
        "\n",
        "def play_against_agent(agent):\n",
        "    env = ConnectFour()\n",
        "    state = env.reset()\n",
        "    done = False\n",
        "\n",
        "    while not done:\n",
        "        print(env.board)\n",
        "        if env.current_player == 1:\n",
        "            try:\n",
        "                action = int(input(\"Tu jugada (0-6): \"))\n",
        "            except:\n",
        "                print(\"Entrada inválida.\")\n",
        "                continue\n",
        "        else:\n",
        "            action = agent.choose_action(state, env.available_actions())\n",
        "            print(f\"🤖 Agente juega en columna: {action}\")\n",
        "\n",
        "        if action not in env.available_actions():\n",
        "            print(\"⚠️ Acción inválida. Intenta de nuevo.\")\n",
        "            continue\n",
        "\n",
        "        state, reward, done = env.step(action)\n",
        "\n",
        "    print(\"🎮 Juego terminado\")\n",
        "    print(env.board)\n",
        "    if reward == 1 and env.current_player == 2:\n",
        "        print(\"🏆 ¡Ganaste!\")\n",
        "    elif reward == 1 and env.current_player == 1:\n",
        "        print(\" Perdiste. Ganó el agente.\")\n",
        "    else:\n",
        "        print(\" Empate.\")\n",
        "\n",
        "# Para jugar, descomenta esto:\n",
        "play_against_agent(agent)"
      ],
      "metadata": {
        "colab": {
          "base_uri": "https://localhost:8080/"
        },
        "id": "_xa_Jk_QM5i3",
        "outputId": "3a7320bb-6117-4626-c52f-434408bce976"
      },
      "execution_count": null,
      "outputs": [
        {
          "output_type": "stream",
          "name": "stdout",
          "text": [
            "[[0 0 0 0 0 0 0]\n",
            " [0 0 0 0 0 0 0]\n",
            " [0 0 0 0 0 0 0]\n",
            " [0 0 0 0 0 0 0]\n",
            " [0 0 0 0 0 0 0]\n",
            " [0 0 0 0 0 0 0]]\n",
            "Tu jugada (0-6): 1\n",
            "[[0 0 0 0 0 0 0]\n",
            " [0 0 0 0 0 0 0]\n",
            " [0 0 0 0 0 0 0]\n",
            " [0 0 0 0 0 0 0]\n",
            " [0 0 0 0 0 0 0]\n",
            " [0 1 0 0 0 0 0]]\n",
            "🤖 Agente juega en columna: 0\n",
            "[[0 0 0 0 0 0 0]\n",
            " [0 0 0 0 0 0 0]\n",
            " [0 0 0 0 0 0 0]\n",
            " [0 0 0 0 0 0 0]\n",
            " [0 0 0 0 0 0 0]\n",
            " [2 1 0 0 0 0 0]]\n",
            "Tu jugada (0-6): 3\n",
            "[[0 0 0 0 0 0 0]\n",
            " [0 0 0 0 0 0 0]\n",
            " [0 0 0 0 0 0 0]\n",
            " [0 0 0 0 0 0 0]\n",
            " [0 0 0 0 0 0 0]\n",
            " [2 1 0 1 0 0 0]]\n",
            "🤖 Agente juega en columna: 0\n",
            "[[0 0 0 0 0 0 0]\n",
            " [0 0 0 0 0 0 0]\n",
            " [0 0 0 0 0 0 0]\n",
            " [0 0 0 0 0 0 0]\n",
            " [2 0 0 0 0 0 0]\n",
            " [2 1 0 1 0 0 0]]\n",
            "Tu jugada (0-6): 4\n",
            "[[0 0 0 0 0 0 0]\n",
            " [0 0 0 0 0 0 0]\n",
            " [0 0 0 0 0 0 0]\n",
            " [0 0 0 0 0 0 0]\n",
            " [2 0 0 0 0 0 0]\n",
            " [2 1 0 1 1 0 0]]\n",
            "🤖 Agente juega en columna: 0\n",
            "[[0 0 0 0 0 0 0]\n",
            " [0 0 0 0 0 0 0]\n",
            " [0 0 0 0 0 0 0]\n",
            " [2 0 0 0 0 0 0]\n",
            " [2 0 0 0 0 0 0]\n",
            " [2 1 0 1 1 0 0]]\n"
          ]
        }
      ]
    }
  ]
}