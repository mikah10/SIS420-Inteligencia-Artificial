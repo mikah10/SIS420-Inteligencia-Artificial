{
 "cells": [
  {
   "cell_type": "code",
   "execution_count": null,
   "id": "46b9d344",
   "metadata": {},
   "outputs": [],
   "source": [
    "import gymnasium as gym\n",
    "import numpy as np\n",
    "import matplotlib.pyplot as plt\n",
    "from IPython.display import Image\n",
    "from tqdm import tqdm\n",
    "import pandas as pd\n",
    "import time\n",
    "import pygetwindow as gw\n",
    "\n",
    "# Crear entorno\n",
    "env = gym.make(\"Taxi-v3\")\n",
    "Image(filename=r'C:\\Users\\Lenovo\\Desktop\\uniowo\\7mo semestre\\SIS420\\labs\\lab7\\taxi.gif')\n"
   ]
  },
  {
   "cell_type": "code",
   "execution_count": null,
   "id": "686092b2",
   "metadata": {},
   "outputs": [],
   "source": [
    "# Inicializar Q\n",
    "num_states = env.observation_space.n\n",
    "num_actions = env.action_space.n\n",
    "Q = np.zeros((num_states, num_actions))\n",
    "\n",
    "rewards = []"
   ]
  },
  {
   "cell_type": "code",
   "execution_count": null,
   "id": "55366b31",
   "metadata": {},
   "outputs": [],
   "source": [
    "# Entrenamiento con actualización incremental\n",
    "for episodio in tqdm(range(n_episodios)):\n",
    "    state, _ = env.reset()\n",
    "    total_reward = 0\n",
    "\n",
    "    for _ in range(max_steps):\n",
    "        # Selección de acción (greedy)\n",
    "        action = np.argmax(Q[state])\n",
    "\n",
    "        # Ejecutar acción\n",
    "        next_state, reward, terminated, truncated, _ = env.step(action)\n",
    "        done = terminated or truncated\n",
    "\n",
    "        # Actualización incremental\n",
    "        best_next = np.max(Q[next_state])\n",
    "        td_target = reward + gamma * best_next\n",
    "        Q[state][action] += alpha * (td_target - Q[state][action])\n",
    "\n",
    "        total_reward += reward\n",
    "        state = next_state\n",
    "\n",
    "        if done:\n",
    "            break\n",
    "\n",
    "    rewards.append(total_reward)\n",
    "    if episodio % 500 == 0:\n",
    "        print(f\"Episodio {episodio}, recompensa total: {total_reward}\")\n",
    "\n",
    "env.close()"
   ]
  },
  {
   "cell_type": "code",
   "execution_count": null,
   "id": "8a725ac6",
   "metadata": {},
   "outputs": [],
   "source": [
    "# Recompensas promedio por bloques de 100 episodios\n",
    "def suavizar(lista, bloque=100):\n",
    "    return [np.mean(lista[i:i + bloque]) for i in range(0, len(lista), bloque)]\n",
    "\n",
    "# 👉 Primero la gráfica\n",
    "plt.plot(suavizar(rewards), label=\"Recompensa promedio por bloque (100)\")\n",
    "plt.xlabel(\"Bloque de 100 episodios\")\n",
    "plt.ylabel(\"Recompensa promedio\")\n",
    "plt.title(\"Q-Learning Incremental en Taxi-v3\")\n",
    "plt.grid(True)\n",
    "plt.legend()\n",
    "plt.show()\n"
   ]
  },
  {
   "cell_type": "code",
   "execution_count": null,
   "id": "666d107e",
   "metadata": {},
   "outputs": [],
   "source": [
    "# 👉 Luego la Q-table\n",
    "df_q = pd.DataFrame(Q)\n",
    "df_q.columns = [\"South\", \"North\", \"East\", \"West\", \"Pickup\", \"Dropoff\"]\n",
    "df_q.index.name = \"State\"\n",
    "print(\"Q-table:\")\n",
    "print(df_q.head(10))  # Mostrar los primeros 10 estados\n"
   ]
  },
  {
   "cell_type": "code",
   "execution_count": null,
   "id": "8c275e0d",
   "metadata": {},
   "outputs": [],
   "source": [
    "# Evaluación visual\n",
    "test_env = gym.make(\"Taxi-v3\", render_mode=\"human\")\n",
    "state, _ = test_env.reset()\n",
    "done = False\n",
    "total_reward = 0\n",
    "\n",
    "time.sleep(1)\n",
    "\n",
    "try:\n",
    "    for w in gw.getWindowsWithTitle(\"Taxi\"):\n",
    "        w.activate()\n",
    "        break\n",
    "except Exception as e:\n",
    "    print(\"No se pudo enfocar la ventana:\", e)\n",
    "\n",
    "while not done:\n",
    "    action = np.argmax(Q[state])\n",
    "    state, reward, terminated, truncated, _ = test_env.step(action)\n",
    "    total_reward += reward\n",
    "    done = terminated or truncated\n",
    "\n",
    "test_env.close()\n",
    "print(\"Recompensa total del test:\", total_reward)"
   ]
  }
 ],
 "metadata": {
  "kernelspec": {
   "display_name": "Python 3",
   "language": "python",
   "name": "python3"
  },
  "language_info": {
   "codemirror_mode": {
    "name": "ipython",
    "version": 3
   },
   "file_extension": ".py",
   "mimetype": "text/x-python",
   "name": "python",
   "nbconvert_exporter": "python",
   "pygments_lexer": "ipython3",
   "version": "3.13.3"
  }
 },
 "nbformat": 4,
 "nbformat_minor": 5
}
